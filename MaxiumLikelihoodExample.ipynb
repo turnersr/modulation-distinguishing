{
 "cells": [
  {
   "cell_type": "code",
   "execution_count": 10,
   "metadata": {},
   "outputs": [],
   "source": [
    "from utilities import genKSignals, createDataset\n",
    "from mlClassifier import MaxiumLikelihood\n",
    "import modulation\n",
    "import numpy as np"
   ]
  },
  {
   "cell_type": "code",
   "execution_count": 11,
   "metadata": {},
   "outputs": [],
   "source": [
    "burstSize = 1024\n",
    "sampleSize = 10\n",
    "lowestSnr, highestSnr = (10, 11)\n",
    "snrRange = np.arange(lowestSnr, highestSnr, 1)"
   ]
  },
  {
   "cell_type": "code",
   "execution_count": 12,
   "metadata": {},
   "outputs": [],
   "source": [
    "X_all = createDataset(modulation.supportedModulation, burstSize, sampleSize, snrRange)"
   ]
  },
  {
   "cell_type": "code",
   "execution_count": 13,
   "metadata": {},
   "outputs": [],
   "source": [
    "MLClassifier = MaxiumLikelihood(lowestSnr, modulation.supportedModulation)\n",
    "MLClassifier.fit(None, None)"
   ]
  },
  {
   "cell_type": "code",
   "execution_count": 14,
   "metadata": {},
   "outputs": [],
   "source": [
    "X = X_all[lowestSnr]"
   ]
  },
  {
   "cell_type": "code",
   "execution_count": 15,
   "metadata": {},
   "outputs": [
    {
     "name": "stdout",
     "output_type": "stream",
     "text": [
      "2pam\n",
      "[0 0 0 0 0 0 0 0 0 0]\n",
      "4pam\n",
      "[1 1 1 1 1 1 1 1 1 1]\n",
      "8pam\n",
      "[2 2 2 2 2 2 2 2 2 2]\n",
      "2psk\n",
      "[3 3 3 3 3 3 3 3 3 3]\n",
      "4psk\n",
      "[4 4 4 4 4 4 4 4 4 4]\n",
      "8psk\n",
      "[5 5 5 5 5 5 5 5 5 5]\n",
      "4qam\n",
      "[6 6 6 6 6 6 6 6 6 6]\n",
      "16qam\n",
      "[7 7 7 7 7 7 7 7 7 7]\n",
      "64qam\n",
      "[8 8 8 8 8 8 8 8 8 8]\n",
      "256qam\n",
      "[8 8 8 8 8 8 8 8 8 8]\n"
     ]
    }
   ],
   "source": [
    "for k, modType in enumerate(modulation.supportedModulation):\n",
    "    start = k*sampleSize\n",
    "    end = start+10\n",
    "    y_predict = MLClassifier.predict(X[start:end])\n",
    "    print(modType)\n",
    "    print(y_predict)"
   ]
  },
  {
   "cell_type": "code",
   "execution_count": null,
   "metadata": {},
   "outputs": [],
   "source": []
  }
 ],
 "metadata": {
  "kernelspec": {
   "display_name": "Python 3",
   "language": "python",
   "name": "python3"
  },
  "language_info": {
   "codemirror_mode": {
    "name": "ipython",
    "version": 3
   },
   "file_extension": ".py",
   "mimetype": "text/x-python",
   "name": "python",
   "nbconvert_exporter": "python",
   "pygments_lexer": "ipython3",
   "version": "3.6.4"
  }
 },
 "nbformat": 4,
 "nbformat_minor": 2
}
